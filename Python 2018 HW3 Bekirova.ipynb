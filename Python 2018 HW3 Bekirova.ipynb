{
 "cells": [
  {
   "cell_type": "code",
   "execution_count": null,
   "metadata": {},
   "outputs": [],
   "source": [
    "#Отобрать аэропорты Австралии, из которых можно улететь за пределы Австралии\n",
    "#Посчитать для каждого аэропорта сколько и для какого города я могу улететь\n",
    "#Найти несовпадения табличек routes и airports\n",
    "#Упорядочить страны по алфавиту\n",
    "#Сгруппировать страны по континентам"
   ]
  },
  {
   "cell_type": "code",
   "execution_count": null,
   "metadata": {},
   "outputs": [],
   "source": [
    "import numpy as np\n",
    "import pandas as pd\n",
    "from numpy import nan as NA"
   ]
  },
  {
   "cell_type": "code",
   "execution_count": null,
   "metadata": {},
   "outputs": [],
   "source": [
    "#Подгружаем данные\n",
    "\n",
    "airport = pd.read_csv('airports.csv', names = ['ID', 'Name', 'City', 'Country', 'IATA', 'ICAO', 'Latitude', 'Longitude', 'Altitude', 'Timezone', 'DST', 'Tz database time zone', 'Type', 'Source'])\n",
    "routes = pd.read_csv('routes.csv', names = ['Airline', 'AirlineID', 'SourceAirport', 'Source Airport ID', 'DestinationAirport', 'Destination Airport ID', 'Codeshare', 'Stops', 'Equipment' ])"
   ]
  },
  {
   "cell_type": "code",
   "execution_count": null,
   "metadata": {},
   "outputs": [],
   "source": [
    "#Отбираем из таблички airport аэропорт Австралии\n",
    "#Важно! К Австралии относится не только сам остров Австралия, но и внешние территории, из них на 3 островах есть аэропорты\n",
    "#В табличке airport в колонке country для них не Australia, а их названия: \n",
    "#Norfolk Island, Cocos (Keeling) Islands, Christmas Island\n",
    "#Поэтому отбираем их тоже\n",
    "\n",
    "australia = ['Australia', 'Norfolk Island', 'Cocos (Keeling) Islands', 'Christmas Island']\n",
    "aus_air = airport[airport['Country'].isin(australia)]"
   ]
  },
  {
   "cell_type": "code",
   "execution_count": null,
   "metadata": {},
   "outputs": [],
   "source": [
    "#Проверяем есть ли Na в IATA\n",
    "icao_air = aus_air[aus_air['IATA']=='\\\\N']\n",
    "icao_air"
   ]
  },
  {
   "cell_type": "code",
   "execution_count": null,
   "metadata": {},
   "outputs": [],
   "source": [
    "#Есть ли IATA не длины 3\n",
    "aus_air[aus_air['IATA'].str.len()!=3]"
   ]
  },
  {
   "cell_type": "code",
   "execution_count": null,
   "metadata": {},
   "outputs": [],
   "source": [
    "#Na есть, но для них для всех есть ID и ICAO, проверим есть ли в routes по ним данные\n",
    "#Проверить по ID\n",
    "aus_id = np.array(icao_air['ID'].unique())\n",
    "aus_id2 = np.array(['{:.0f}'.format(x) for x in aus_id])\n",
    "routes[routes['Source Airport ID'].isin(aus_id2)]\n",
    "\n",
    "#С такими ID нет"
   ]
  },
  {
   "cell_type": "code",
   "execution_count": null,
   "metadata": {},
   "outputs": [],
   "source": [
    "#Проверка по ICAO\n",
    "#В routes вообще нет  4 буквенных кодов\n",
    "routes[routes['SourceAirport'].str.len()==4]"
   ]
  },
  {
   "cell_type": "code",
   "execution_count": null,
   "metadata": {},
   "outputs": [],
   "source": [
    "routes[routes['DestinationAirport'].str.len()==4]"
   ]
  },
  {
   "cell_type": "code",
   "execution_count": null,
   "metadata": {},
   "outputs": [],
   "source": [
    "#Поэтому можем заменить их на Nan и рабоать дальше без них\n",
    "aus_air2 = aus_air.replace('\\\\N',NA)\n",
    "aus_air2 = aus_air2[aus_air2['IATA'].str.len()==3]\n",
    "aus_air2.count()"
   ]
  },
  {
   "cell_type": "code",
   "execution_count": null,
   "metadata": {},
   "outputs": [],
   "source": [
    "#Отберем IATA для австралийских аэропортов, чтобы по ним обобрать маршруты\n",
    "iata = np.array(aus_air2['IATA'].unique())\n",
    "iata"
   ]
  },
  {
   "cell_type": "code",
   "execution_count": null,
   "metadata": {},
   "outputs": [],
   "source": [
    "#Отбираем маршруты\n",
    "aus_abroad = routes[routes['SourceAirport'].isin(iata) & -routes['DestinationAirport'].isin(iata)]\n",
    "\n",
    "#Коды IATA австралийских аэропортов, из которых можно улететь в другие страны\n",
    "aus_abroad['SourceAirport'].unique()"
   ]
  },
  {
   "cell_type": "code",
   "execution_count": null,
   "metadata": {},
   "outputs": [],
   "source": [
    "#Направления куда летают\n",
    "aus_abroad['DestinationAirport'].unique()"
   ]
  },
  {
   "cell_type": "code",
   "execution_count": null,
   "metadata": {},
   "outputs": [],
   "source": [
    "#Количество\n",
    "len(aus_abroad['DestinationAirport'].unique())"
   ]
  },
  {
   "cell_type": "code",
   "execution_count": null,
   "metadata": {},
   "outputs": [],
   "source": [
    "air = pd.DataFrame(airport, columns=['IATA','Country'])\n",
    "air = air.rename(columns = {'IATA': 'DestinationAirport'})\n",
    "aus = aus_abroad.merge(air, on = 'DestinationAirport', how = 'left')\n",
    "\n",
    "#Cлили таблички, проверим все ли страны подтянулись\n",
    "aus['Country'].unique()\n"
   ]
  },
  {
   "cell_type": "code",
   "execution_count": null,
   "metadata": {},
   "outputs": [],
   "source": [
    "aus.count()"
   ]
  },
  {
   "cell_type": "code",
   "execution_count": null,
   "metadata": {},
   "outputs": [],
   "source": [
    "aus[aus['Country'].isna()]"
   ]
  },
  {
   "cell_type": "code",
   "execution_count": null,
   "metadata": {},
   "outputs": [],
   "source": [
    "airport[airport['IATA']=='ZBL']\n",
    "#В табличке airport нет этого аэропорта\n",
    "#ZBL это австралийский аэропорт, поэтому проверили летают ли из него в другие страны"
   ]
  },
  {
   "cell_type": "code",
   "execution_count": null,
   "metadata": {},
   "outputs": [],
   "source": [
    "routes[(routes['SourceAirport']=='ZBL') & -routes['DestinationAirport'].isin(iata)]\n",
    "#Из него в другие страны не летают, но выкинем его из таблички aus, т.к. в Destination не должны быть австралийские аэропорты"
   ]
  },
  {
   "cell_type": "code",
   "execution_count": null,
   "metadata": {},
   "outputs": [],
   "source": [
    "airport[airport['IATA']=='DOH']\n",
    "#Это аэропорт Дохи(Катар) и его тоже не оказалось в табличке airport"
   ]
  },
  {
   "cell_type": "code",
   "execution_count": null,
   "metadata": {},
   "outputs": [],
   "source": [
    "aus.loc[aus['DestinationAirport'] == 'DOH', 'Country'] = 'Qatar'\n",
    "aus"
   ]
  },
  {
   "cell_type": "code",
   "execution_count": null,
   "metadata": {},
   "outputs": [],
   "source": [
    "aus_new = aus[aus['DestinationAirport'] != 'ZBL']\n",
    "aus_new.count()"
   ]
  },
  {
   "cell_type": "code",
   "execution_count": null,
   "metadata": {},
   "outputs": [],
   "source": [
    "final = aus_new.pivot_table(values = 'Airline', index=['Country','DestinationAirport'],  columns='SourceAirport', aggfunc='count')\n",
    "final.sort_index()"
   ]
  },
  {
   "cell_type": "code",
   "execution_count": null,
   "metadata": {},
   "outputs": [],
   "source": [
    "#Объеденим по континентам, сначала посмотрим какой список стран\n",
    "aus_new['Country'].unique()"
   ]
  },
  {
   "cell_type": "code",
   "execution_count": null,
   "metadata": {},
   "outputs": [],
   "source": [
    "#Соотнесем с континентами\n",
    "continent = {'Singapore':'Asia', 'China':'Asia', 'New Zealand':'Oceania', 'United States':'North America', 'Canada':'North America',\n",
    "       'India':'Asia', 'Hong Kong':'Asia', 'United Arab Emirates':'Asia', 'Brunei':'Asia', 'Taiwan':'Asia',\n",
    "       'Papua New Guinea':'Oceania', 'Malaysia':'Asia', 'Thailand':'Asia', 'Indonesia':'Asia', 'Fiji':'Oceania',\n",
    "       'Solomon Islands':'Oceania', 'Japan':'Asia', 'South Korea':'Asia', 'Chile':'South America', 'Mauritius':'Africa',\n",
    "       'Vanuatu':'Oceania', 'Cook Islands':'Oceania', 'Nauru':'Oceania', 'Philippines':'Asia', 'New Caledonia':'Oceania',\n",
    "       'Qatar':'Asia', 'East Timor':'Asia', 'Vietnam':'Asia', 'South Africa':'Africa', 'Guam':'Oceania', 'Samoa':'Oceania',\n",
    "       'Tonga':'Oceania'}"
   ]
  },
  {
   "cell_type": "code",
   "execution_count": null,
   "metadata": {},
   "outputs": [],
   "source": [
    "aus_new['Continent'] = aus_new['Country'].map(continent)"
   ]
  },
  {
   "cell_type": "code",
   "execution_count": null,
   "metadata": {},
   "outputs": [],
   "source": [
    "aus_new"
   ]
  },
  {
   "cell_type": "code",
   "execution_count": null,
   "metadata": {},
   "outputs": [],
   "source": [
    "final2 = aus_new.pivot_table(values = 'Airline', index=['Continent', 'Country','DestinationAirport'],  columns='SourceAirport', aggfunc='count')\n",
    "final2.sort_index()"
   ]
  },
  {
   "cell_type": "code",
   "execution_count": null,
   "metadata": {},
   "outputs": [],
   "source": []
  }
 ],
 "metadata": {
  "kernelspec": {
   "display_name": "Python 3",
   "language": "python",
   "name": "python3"
  },
  "language_info": {
   "codemirror_mode": {
    "name": "ipython",
    "version": 3
   },
   "file_extension": ".py",
   "mimetype": "text/x-python",
   "name": "python",
   "nbconvert_exporter": "python",
   "pygments_lexer": "ipython3",
   "version": "3.7.0"
  }
 },
 "nbformat": 4,
 "nbformat_minor": 2
}
