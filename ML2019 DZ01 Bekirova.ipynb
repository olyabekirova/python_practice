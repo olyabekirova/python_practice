{
 "cells": [
  {
   "cell_type": "code",
   "execution_count": null,
   "metadata": {},
   "outputs": [],
   "source": [
    "import numpy as np\n",
    "import pandas as pd\n",
    "import pandas_datareader.data as web\n",
    "import datetime\n",
    "import matplotlib.pyplot as plt\n",
    "import networkx as nx\n",
    "import seaborn as sns"
   ]
  },
  {
   "cell_type": "markdown",
   "metadata": {},
   "source": [
    "# Для DJ"
   ]
  },
  {
   "cell_type": "code",
   "execution_count": null,
   "metadata": {},
   "outputs": [],
   "source": [
    "#Cкачиваем перечень бумаг, входящих в индекс\n",
    "path = 'https://finance.yahoo.com/quote/%5EDJI/components?p=%5EDJI'\n",
    "dji = pd.read_html(path)[0][['Symbol', 'Company Name']]\n",
    "dji_new = dji.set_index('Symbol')\n",
    "ticker = dji['Symbol'].values\n",
    "ticker"
   ]
  },
  {
   "cell_type": "code",
   "execution_count": null,
   "metadata": {},
   "outputs": [],
   "source": [
    "#Задаем период\n",
    "start_time = datetime.datetime(2018,1,1)\n",
    "finish_time = datetime.datetime(2018,12,31)"
   ]
  },
  {
   "cell_type": "code",
   "execution_count": null,
   "metadata": {},
   "outputs": [],
   "source": [
    "#Загружаем цену закрытия при помощи pandas_datareader\n",
    "#Цена закрытия - наиболее актуальная оценка ценной бумаги\n",
    "#Можно также было выкачать Adj Close, она учитывает выплаты дивидендов, но результаты очень похожие\n",
    "#Можно учитывать не цену,а доходность как темпы прироста скорректированных цен\n",
    "#Но там граф странный получался, по нему ценные бумаги мало похожи друг на друга \n",
    "\n",
    "web_archiv = {}\n",
    "for i in ticker:\n",
    "    web_archiv[i] = web.DataReader(i, 'yahoo', start_time, finish_time)['Close']\n",
    "    \n",
    "web_df = pd.DataFrame(web_archiv)\n",
    "web_df.head()"
   ]
  },
  {
   "cell_type": "code",
   "execution_count": null,
   "metadata": {},
   "outputs": [],
   "source": [
    "#Проверка, что нет NA\n",
    "web_df.info()"
   ]
  },
  {
   "cell_type": "code",
   "execution_count": null,
   "metadata": {},
   "outputs": [],
   "source": [
    "#Построение взаимно-корреляционной матрицы\n",
    "#В качестве порога выберем 0.8\n",
    "corr = web_df.corr()\n",
    "corr = corr.replace(1,0)\n",
    "graph = (abs(corr)>0.8).astype(int)"
   ]
  },
  {
   "cell_type": "code",
   "execution_count": null,
   "metadata": {},
   "outputs": [],
   "source": [
    "#Строим и визуализируем граф\n",
    "m = graph.values\n",
    "n = ticker\n",
    "G = nx.from_numpy_matrix(m)\n",
    "nodes = dict(zip(G.nodes(), n))\n",
    "G1 = nx.relabel_nodes(G, nodes)\n",
    "nx.draw_networkx(G1, pos = nx.kamada_kawai_layout(G1))\n",
    "plt.show()"
   ]
  },
  {
   "cell_type": "code",
   "execution_count": null,
   "metadata": {},
   "outputs": [],
   "source": [
    "#Находим клику \n",
    "#Длина максимальной клики 4, но есть еще клики такой длины\n",
    "cliques = list(nx.find_cliques(G1))\n",
    "code = max(cliques, key=len)\n",
    "code"
   ]
  },
  {
   "cell_type": "code",
   "execution_count": null,
   "metadata": {},
   "outputs": [],
   "source": [
    "#Функция, чтобы выбрать все максимальные клики \n",
    "def by_size(words,size):\n",
    "    result = []\n",
    "    for word in words:\n",
    "        if len(word)==size:\n",
    "            result.append(word)\n",
    "    return result"
   ]
  },
  {
   "cell_type": "code",
   "execution_count": null,
   "metadata": {},
   "outputs": [],
   "source": [
    "#Максимальные клики\n",
    "max_cliques = by_size(cliques, len(code))\n",
    "max_cliques"
   ]
  },
  {
   "cell_type": "code",
   "execution_count": null,
   "metadata": {},
   "outputs": [],
   "source": [
    "#Вычислим кумулятивную процентную доходность \n",
    "daily_pct = (web_df/web_df.shift(1)-1).fillna(0)\n",
    "daily_sum=(daily_pct*100).cumsum()\n",
    "daily_sum.head(5)"
   ]
  },
  {
   "cell_type": "code",
   "execution_count": null,
   "metadata": {},
   "outputs": [],
   "source": [
    "#Визуалириуем кумулятивную процентную доходность для составляющих максимальных клик\n",
    "for i in range(len(max_cliques)):\n",
    "    daily_sum[max_cliques[i]].plot()\n",
    "    plt.title('Кумулятивная процентная доходность для клики' + '\\n' + str(max_cliques[i]))\n",
    "    plt.show()"
   ]
  },
  {
   "cell_type": "code",
   "execution_count": null,
   "metadata": {},
   "outputs": [],
   "source": [
    "#Визуалириуем кумулятивную процентную доходность для максимальных клик\n",
    "for i in range(len(max_cliques)):\n",
    "    daily_sum[max_cliques[i]].sum(axis=1).plot()\n",
    "    plt.title('Кумулятивная процентная доходность для клики' + '\\n' + str(max_cliques[i]))\n",
    "    plt.show()"
   ]
  },
  {
   "cell_type": "code",
   "execution_count": null,
   "metadata": {},
   "outputs": [],
   "source": [
    "#Визуализация риска для максимальных клик\n",
    "\n",
    "for i in range(len(max_cliques)):\n",
    "    cli = []\n",
    "    t = i +1\n",
    "    cli = daily_pct[max_cliques[i]]\n",
    "    cli['risk'] = cli.mean(numeric_only=True, axis=1)/cli.std(numeric_only=True, axis=1)\n",
    "    cli['risk'].plot()\n",
    "    plt.title('Риск для клики %i' %t + '\\n' + str(max_cliques[i]))\n",
    "    plt.show()"
   ]
  },
  {
   "cell_type": "code",
   "execution_count": null,
   "metadata": {},
   "outputs": [],
   "source": [
    "#Разброс акций относительно их мат. ошидания и СКО\n",
    "\n",
    "df_risk=pd.concat([daily_pct.mean(),daily_pct.std()],axis=1)\n",
    "df_risk.columns=[\"mean\",'std']\n",
    "sns.scatterplot(x=\"std\", y=\"mean\",data=df_risk,hue=df_risk.index)"
   ]
  },
  {
   "cell_type": "code",
   "execution_count": null,
   "metadata": {},
   "outputs": [],
   "source": [
    "#Нахождение бумаг на ПО границе\n",
    "\n",
    "max_mean = df_risk.loc[df_risk['mean'] == df_risk['mean'].max()]\n",
    "min_std = df_risk.loc[df_risk['std'] == df_risk['std'].min()]\n",
    "\n",
    "sns.scatterplot(x=\"std\", y=\"mean\",data=df_risk)\n",
    "#акция с максимальной доходностью\n",
    "plt.scatter(x=max_mean['std'], y=max_mean['mean'], c='red', marker='D')\n",
    "plt.text(x=max_mean['std'], y=max_mean['mean'], s=list(max_mean.index))\n",
    "#акция с минимальным риском\n",
    "plt.scatter(x=min_std['std'], y=min_std['mean'], c='blue', marker='D')\n",
    "plt.text(x=min_std['std'], y=min_std['mean'], s=list(min_std.index))\n",
    "plt.title('Поиск акций на эффективной границе')\n",
    "plt.show()"
   ]
  },
  {
   "cell_type": "code",
   "execution_count": null,
   "metadata": {},
   "outputs": [],
   "source": [
    "print(\"Компания, у которой акции имеют минимальный риск:\", dji_new.loc[min_std.index]['Company Name'].to_string(index=False))\n",
    "print(\"Компания, у которой акции имеют максимальную доходность:\", dji_new.loc[max_mean.index]['Company Name'].to_string(index=False))"
   ]
  },
  {
   "cell_type": "markdown",
   "metadata": {},
   "source": [
    "# Для S&P 500"
   ]
  },
  {
   "cell_type": "code",
   "execution_count": null,
   "metadata": {},
   "outputs": [],
   "source": [
    "#Cкачиваем перечень бумаг, входящих в индекс\n",
    "data = pd.read_html('https://en.wikipedia.org/wiki/List_of_S%26P_500_companies')[0][1:]\n",
    "sp = data[data.columns[:2]]\n",
    "sp = sp.rename(columns={0: \"Company Name\", 1: \"Symbol\"})\n",
    "sp_new = sp.set_index('Symbol')\n",
    "sp.head()"
   ]
  },
  {
   "cell_type": "code",
   "execution_count": null,
   "metadata": {},
   "outputs": [],
   "source": [
    "ticker_sp = sp['Symbol'].values\n",
    "ticker_sp"
   ]
  },
  {
   "cell_type": "code",
   "execution_count": null,
   "metadata": {},
   "outputs": [],
   "source": [
    "web_archiv_sp = {}\n",
    "for i in ticker_sp:\n",
    "    web_archiv_sp[i] = web.DataReader(i, 'yahoo', start_time, finish_time)['Close']"
   ]
  },
  {
   "cell_type": "code",
   "execution_count": null,
   "metadata": {},
   "outputs": [],
   "source": [
    "sp_df = pd.DataFrame(web_archiv_sp)\n",
    "sp_df.head()"
   ]
  },
  {
   "cell_type": "code",
   "execution_count": null,
   "metadata": {},
   "outputs": [],
   "source": [
    "#проверка, что нет NA\n",
    "sp_df.info()"
   ]
  },
  {
   "cell_type": "code",
   "execution_count": null,
   "metadata": {},
   "outputs": [],
   "source": [
    "#Построение взаимно-корреляционной матрицы\n",
    "#В качестве порога выберем 0.8\n",
    "\n",
    "corr_sp = sp_df.corr()\n",
    "corr_sp = corr_sp.replace(1,0)\n",
    "graph_sp = (abs(corr_sp)>0.8).astype(int)"
   ]
  },
  {
   "cell_type": "code",
   "execution_count": null,
   "metadata": {},
   "outputs": [],
   "source": [
    "#Строим и визуализируем граф\n",
    "m_sp = graph_sp.values\n",
    "n_sp = ticker_sp\n",
    "G_sp = nx.from_numpy_matrix(m_sp)\n",
    "nodes_sp = dict(zip(G_sp.nodes(), n_sp))\n",
    "G1_sp = nx.relabel_nodes(G_sp, nodes_sp)\n",
    "nx.draw_networkx(G1_sp, pos = nx.kamada_kawai_layout(G1_sp))\n",
    "plt.show()"
   ]
  },
  {
   "cell_type": "code",
   "execution_count": null,
   "metadata": {},
   "outputs": [],
   "source": [
    "#Находим клику \n",
    "#Длина максимальной клики 35, но есть еще клики такой длины\n",
    "\n",
    "cliques_sp = list(nx.find_cliques(G1_sp))\n",
    "code_sp = max(cliques_sp, key=len)\n",
    "print(len(code_sp))\n",
    "print(code_sp)"
   ]
  },
  {
   "cell_type": "code",
   "execution_count": null,
   "metadata": {},
   "outputs": [],
   "source": [
    "#Находим все максимальные клики, их 5\n",
    "max_cliques_sp = by_size(cliques_sp, len(code_sp))\n",
    "max_cliques_sp"
   ]
  },
  {
   "cell_type": "code",
   "execution_count": null,
   "metadata": {},
   "outputs": [],
   "source": [
    "#Вычислим кумулятивную процентную доходность \n",
    "daily_pct_sp = (sp_df/sp_df.shift(1)-1).fillna(0)\n",
    "daily_sum_sp=(daily_pct_sp*100).cumsum()\n",
    "daily_sum_sp.head()"
   ]
  },
  {
   "cell_type": "code",
   "execution_count": null,
   "metadata": {},
   "outputs": [],
   "source": [
    "#Визуалириуем кумулятивную процентную доходность для составляющих максимальных клик\n",
    "#У всех максимальных клик кумулятивная доходность падает - это может насторожить при составлении портфеля из таких акций\n",
    "for i in range(len(max_cliques_sp)):\n",
    "    t = i+1\n",
    "    daily_sum_sp[max_cliques_sp[i]].plot()\n",
    "    plt.title('Кумулятивная процентная доходность для клики %i' %t)\n",
    "    plt.show()"
   ]
  },
  {
   "cell_type": "code",
   "execution_count": null,
   "metadata": {},
   "outputs": [],
   "source": [
    "#Попробуем взять не цены закрытия, а процентные изменения для цен закрытия\n",
    "\n",
    "corr_sp = daily_pct_sp.corr()\n",
    "corr_sp = corr_sp.replace(1,0)\n",
    "graph_sp = (abs(corr_sp)>0.8).astype(int)\n",
    "m_sp = graph_sp.values\n",
    "n_sp = ticker_sp\n",
    "G_sp = nx.from_numpy_matrix(m_sp)\n",
    "nodes_sp = dict(zip(G_sp.nodes(), n_sp))\n",
    "G1_sp = nx.relabel_nodes(G_sp, nodes_sp)\n",
    "nx.draw_networkx(G1_sp, pos = nx.kamada_kawai_layout(G1_sp))\n",
    "plt.show()"
   ]
  },
  {
   "cell_type": "code",
   "execution_count": null,
   "metadata": {},
   "outputs": [],
   "source": [
    "#Найдем клики, длина максимальной клики 11\n",
    "cliques_sp = list(nx.find_cliques(G1_sp))\n",
    "code_sp = max(cliques_sp, key=len)\n",
    "print(len(code_sp))\n",
    "print(code_sp)"
   ]
  },
  {
   "cell_type": "code",
   "execution_count": null,
   "metadata": {},
   "outputs": [],
   "source": [
    "#Максимальных клик с такой длиной 2\n",
    "max_cliques_sp = by_size(cliques_sp, len(code_sp))\n",
    "max_cliques_sp"
   ]
  },
  {
   "cell_type": "code",
   "execution_count": null,
   "metadata": {},
   "outputs": [],
   "source": [
    "#Визуализируем кумулятивную процентную доходность для составляющих максимальных клик\n",
    "for i in range(len(max_cliques_sp)):\n",
    "    t = i+1\n",
    "    daily_sum_sp[max_cliques_sp[i]].plot()\n",
    "    plt.title('Кумулятивная процентная доходность для клики %i' %t)\n",
    "    plt.show()"
   ]
  },
  {
   "cell_type": "code",
   "execution_count": null,
   "metadata": {},
   "outputs": [],
   "source": [
    "#Визуалириуем кумулятивную процентную доходность для максимальных клик\n",
    "for i in range(len(max_cliques_sp)):\n",
    "    t = i+1\n",
    "    daily_sum_sp[max_cliques_sp[i]].sum(axis=1).plot()\n",
    "    plt.title('Кумулятивная процентная доходность для клики %i' %t)\n",
    "    plt.show()"
   ]
  },
  {
   "cell_type": "code",
   "execution_count": null,
   "metadata": {},
   "outputs": [],
   "source": [
    "#Визуализация риска для максимальных клик\n",
    "\n",
    "for i in range(len(max_cliques_sp)):\n",
    "    cli = []\n",
    "    t = i+1\n",
    "    cli = daily_pct_sp[max_cliques_sp[i]]\n",
    "    cli['risk'] = cli.mean(numeric_only=True, axis=1)/cli.std(numeric_only=True, axis=1)\n",
    "    cli['risk'].plot()\n",
    "    plt.title('Риск для клики %i' %t)\n",
    "            #  + '\\n' + str(max_cliques_sp[i]))\n",
    "    plt.show()"
   ]
  },
  {
   "cell_type": "code",
   "execution_count": null,
   "metadata": {},
   "outputs": [],
   "source": [
    "#Разброс акций относительно их мат. ошидания и СКО\n",
    "\n",
    "df_risk_sp=pd.concat([daily_pct_sp.mean(),daily_pct_sp.std()],axis=1)\n",
    "df_risk_sp.columns=[\"mean\",'std']\n",
    "sns.scatterplot(x=\"std\", y=\"mean\",data=df_risk_sp,hue=df_risk_sp.index, legend = False)"
   ]
  },
  {
   "cell_type": "code",
   "execution_count": null,
   "metadata": {},
   "outputs": [],
   "source": [
    "#Нахождение бумаг на ПО границе\n",
    "\n",
    "max_mean_sp = df_risk_sp.loc[df_risk_sp['mean'] == df_risk_sp['mean'].max()]\n",
    "min_std_sp = df_risk_sp.loc[df_risk_sp['std'] == df_risk_sp['std'].min()]\n",
    "\n",
    "sns.scatterplot(x=\"std\", y=\"mean\",data=df_risk_sp)\n",
    "#акция с максимальной доходностью\n",
    "plt.scatter(x=max_mean_sp['std'], y=max_mean_sp['mean'], c='red', marker='D')\n",
    "plt.text(x=max_mean_sp['std'], y=max_mean_sp['mean']+0.0001, s=list(max_mean_sp.index))\n",
    "#акция с минимальным риском\n",
    "plt.scatter(x=min_std_sp['std'], y=min_std_sp['mean'], c='blue', marker='D')\n",
    "plt.text(x=min_std_sp['std']-0.001, y=min_std_sp['mean']+0.0005, s=list(min_std_sp.index))\n",
    "plt.title('Поиск акций на эффективной границе')\n",
    "plt.show()"
   ]
  },
  {
   "cell_type": "code",
   "execution_count": null,
   "metadata": {},
   "outputs": [],
   "source": [
    "print(\"Компания, у которой акции имеют минимальный риск:\", sp_new.loc[min_std_sp.index]['Company Name'].to_string(index=False))\n",
    "print(\"Компания, у которой акции имеют максимальную доходность:\", sp_new.loc[max_mean_sp.index]['Company Name'].to_string(index=False))"
   ]
  }
 ],
 "metadata": {
  "kernelspec": {
   "display_name": "Python 3",
   "language": "python",
   "name": "python3"
  },
  "language_info": {
   "codemirror_mode": {
    "name": "ipython",
    "version": 3
   },
   "file_extension": ".py",
   "mimetype": "text/x-python",
   "name": "python",
   "nbconvert_exporter": "python",
   "pygments_lexer": "ipython3",
   "version": "3.7.1"
  }
 },
 "nbformat": 4,
 "nbformat_minor": 2
}
